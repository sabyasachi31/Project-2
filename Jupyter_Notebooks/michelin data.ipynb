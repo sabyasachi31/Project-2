{
 "cells": [
  {
   "cell_type": "code",
   "execution_count": 1,
   "id": "a5b7f6a5",
   "metadata": {},
   "outputs": [],
   "source": [
    "import sqlite3 as sql\n",
    "import pandas as pd\n",
    "import matplotlib.pyplot as plt\n",
    "import numpy as np\n",
    "import pandas as pd\n",
    "from sqlalchemy import create_engine"
   ]
  },
  {
   "cell_type": "markdown",
   "id": "4824708e",
   "metadata": {},
   "source": [
    "## Store CSV into DataFrame"
   ]
  },
  {
   "cell_type": "code",
   "execution_count": 2,
   "id": "2b129a2d",
   "metadata": {},
   "outputs": [
    {
     "data": {
      "text/html": [
       "<div>\n",
       "<style scoped>\n",
       "    .dataframe tbody tr th:only-of-type {\n",
       "        vertical-align: middle;\n",
       "    }\n",
       "\n",
       "    .dataframe tbody tr th {\n",
       "        vertical-align: top;\n",
       "    }\n",
       "\n",
       "    .dataframe thead th {\n",
       "        text-align: right;\n",
       "    }\n",
       "</style>\n",
       "<table border=\"1\" class=\"dataframe\">\n",
       "  <thead>\n",
       "    <tr style=\"text-align: right;\">\n",
       "      <th></th>\n",
       "      <th>name</th>\n",
       "      <th>year</th>\n",
       "      <th>latitude</th>\n",
       "      <th>longitude</th>\n",
       "      <th>city</th>\n",
       "      <th>region</th>\n",
       "      <th>zipCode</th>\n",
       "      <th>cuisine</th>\n",
       "      <th>price</th>\n",
       "      <th>url</th>\n",
       "      <th>Stars</th>\n",
       "    </tr>\n",
       "  </thead>\n",
       "  <tbody>\n",
       "    <tr>\n",
       "      <th>0</th>\n",
       "      <td>Kilian Stuba</td>\n",
       "      <td>2019</td>\n",
       "      <td>47.348580</td>\n",
       "      <td>10.17114</td>\n",
       "      <td>Kleinwalsertal</td>\n",
       "      <td>Austria</td>\n",
       "      <td>87568</td>\n",
       "      <td>Creative</td>\n",
       "      <td>$$$$$</td>\n",
       "      <td>https://guide.michelin.com/at/en/vorarlberg/kl...</td>\n",
       "      <td>1</td>\n",
       "    </tr>\n",
       "    <tr>\n",
       "      <th>1</th>\n",
       "      <td>Pfefferschiff</td>\n",
       "      <td>2019</td>\n",
       "      <td>47.837870</td>\n",
       "      <td>13.07917</td>\n",
       "      <td>Hallwang</td>\n",
       "      <td>Austria</td>\n",
       "      <td>5300</td>\n",
       "      <td>Classic cuisine</td>\n",
       "      <td>$$$$$</td>\n",
       "      <td>https://guide.michelin.com/at/en/salzburg-regi...</td>\n",
       "      <td>1</td>\n",
       "    </tr>\n",
       "    <tr>\n",
       "      <th>2</th>\n",
       "      <td>Esszimmer</td>\n",
       "      <td>2019</td>\n",
       "      <td>47.806850</td>\n",
       "      <td>13.03409</td>\n",
       "      <td>Salzburg</td>\n",
       "      <td>Austria</td>\n",
       "      <td>5020</td>\n",
       "      <td>Creative</td>\n",
       "      <td>$$$$$</td>\n",
       "      <td>https://guide.michelin.com/at/en/salzburg-regi...</td>\n",
       "      <td>1</td>\n",
       "    </tr>\n",
       "    <tr>\n",
       "      <th>3</th>\n",
       "      <td>Carpe Diem</td>\n",
       "      <td>2019</td>\n",
       "      <td>47.800010</td>\n",
       "      <td>13.04006</td>\n",
       "      <td>Salzburg</td>\n",
       "      <td>Austria</td>\n",
       "      <td>5020</td>\n",
       "      <td>Market cuisine</td>\n",
       "      <td>$$$$$</td>\n",
       "      <td>https://guide.michelin.com/at/en/salzburg-regi...</td>\n",
       "      <td>1</td>\n",
       "    </tr>\n",
       "    <tr>\n",
       "      <th>4</th>\n",
       "      <td>Edvard</td>\n",
       "      <td>2019</td>\n",
       "      <td>48.216503</td>\n",
       "      <td>16.36852</td>\n",
       "      <td>Wien</td>\n",
       "      <td>Austria</td>\n",
       "      <td>1010</td>\n",
       "      <td>Modern cuisine</td>\n",
       "      <td>$$$$</td>\n",
       "      <td>https://guide.michelin.com/at/en/vienna/wien/r...</td>\n",
       "      <td>1</td>\n",
       "    </tr>\n",
       "  </tbody>\n",
       "</table>\n",
       "</div>"
      ],
      "text/plain": [
       "            name  year   latitude  longitude            city   region zipCode  \\\n",
       "0   Kilian Stuba  2019  47.348580   10.17114  Kleinwalsertal  Austria   87568   \n",
       "1  Pfefferschiff  2019  47.837870   13.07917        Hallwang  Austria    5300   \n",
       "2      Esszimmer  2019  47.806850   13.03409        Salzburg  Austria    5020   \n",
       "3     Carpe Diem  2019  47.800010   13.04006        Salzburg  Austria    5020   \n",
       "4         Edvard  2019  48.216503   16.36852            Wien  Austria    1010   \n",
       "\n",
       "           cuisine  price                                                url  \\\n",
       "0         Creative  $$$$$  https://guide.michelin.com/at/en/vorarlberg/kl...   \n",
       "1  Classic cuisine  $$$$$  https://guide.michelin.com/at/en/salzburg-regi...   \n",
       "2         Creative  $$$$$  https://guide.michelin.com/at/en/salzburg-regi...   \n",
       "3   Market cuisine  $$$$$  https://guide.michelin.com/at/en/salzburg-regi...   \n",
       "4   Modern cuisine   $$$$  https://guide.michelin.com/at/en/vienna/wien/r...   \n",
       "\n",
       "   Stars  \n",
       "0      1  \n",
       "1      1  \n",
       "2      1  \n",
       "3      1  \n",
       "4      1  "
      ]
     },
     "execution_count": 2,
     "metadata": {},
     "output_type": "execute_result"
    }
   ],
   "source": [
    "csv_file = \"../Data/combo-michelin-restaurants-stars.csv\"\n",
    "michelin_data_df = pd.read_csv(csv_file)\n",
    "michelin_data_df.head()"
   ]
  },
  {
   "cell_type": "markdown",
   "id": "1f8af5ec",
   "metadata": {},
   "source": [
    "# Cleaning CSV file"
   ]
  },
  {
   "cell_type": "code",
   "execution_count": 3,
   "id": "c5bdbcd9",
   "metadata": {},
   "outputs": [
    {
     "data": {
      "text/html": [
       "<div>\n",
       "<style scoped>\n",
       "    .dataframe tbody tr th:only-of-type {\n",
       "        vertical-align: middle;\n",
       "    }\n",
       "\n",
       "    .dataframe tbody tr th {\n",
       "        vertical-align: top;\n",
       "    }\n",
       "\n",
       "    .dataframe thead th {\n",
       "        text-align: right;\n",
       "    }\n",
       "</style>\n",
       "<table border=\"1\" class=\"dataframe\">\n",
       "  <thead>\n",
       "    <tr style=\"text-align: right;\">\n",
       "      <th></th>\n",
       "      <th>Name</th>\n",
       "      <th>Year</th>\n",
       "      <th>Latitude</th>\n",
       "      <th>Longitude</th>\n",
       "      <th>City</th>\n",
       "      <th>Region</th>\n",
       "      <th>Zip</th>\n",
       "      <th>Cuisine</th>\n",
       "      <th>Price</th>\n",
       "      <th>URL</th>\n",
       "      <th>Michelin_Stars</th>\n",
       "    </tr>\n",
       "  </thead>\n",
       "  <tbody>\n",
       "    <tr>\n",
       "      <th>0</th>\n",
       "      <td>Kilian Stuba</td>\n",
       "      <td>2019</td>\n",
       "      <td>47.348580</td>\n",
       "      <td>10.17114</td>\n",
       "      <td>Kleinwalsertal</td>\n",
       "      <td>Austria</td>\n",
       "      <td>87568</td>\n",
       "      <td>Creative</td>\n",
       "      <td>$$$$$</td>\n",
       "      <td>https://guide.michelin.com/at/en/vorarlberg/kl...</td>\n",
       "      <td>1</td>\n",
       "    </tr>\n",
       "    <tr>\n",
       "      <th>1</th>\n",
       "      <td>Pfefferschiff</td>\n",
       "      <td>2019</td>\n",
       "      <td>47.837870</td>\n",
       "      <td>13.07917</td>\n",
       "      <td>Hallwang</td>\n",
       "      <td>Austria</td>\n",
       "      <td>5300</td>\n",
       "      <td>Classic cuisine</td>\n",
       "      <td>$$$$$</td>\n",
       "      <td>https://guide.michelin.com/at/en/salzburg-regi...</td>\n",
       "      <td>1</td>\n",
       "    </tr>\n",
       "    <tr>\n",
       "      <th>2</th>\n",
       "      <td>Esszimmer</td>\n",
       "      <td>2019</td>\n",
       "      <td>47.806850</td>\n",
       "      <td>13.03409</td>\n",
       "      <td>Salzburg</td>\n",
       "      <td>Austria</td>\n",
       "      <td>5020</td>\n",
       "      <td>Creative</td>\n",
       "      <td>$$$$$</td>\n",
       "      <td>https://guide.michelin.com/at/en/salzburg-regi...</td>\n",
       "      <td>1</td>\n",
       "    </tr>\n",
       "    <tr>\n",
       "      <th>3</th>\n",
       "      <td>Carpe Diem</td>\n",
       "      <td>2019</td>\n",
       "      <td>47.800010</td>\n",
       "      <td>13.04006</td>\n",
       "      <td>Salzburg</td>\n",
       "      <td>Austria</td>\n",
       "      <td>5020</td>\n",
       "      <td>Market cuisine</td>\n",
       "      <td>$$$$$</td>\n",
       "      <td>https://guide.michelin.com/at/en/salzburg-regi...</td>\n",
       "      <td>1</td>\n",
       "    </tr>\n",
       "    <tr>\n",
       "      <th>4</th>\n",
       "      <td>Edvard</td>\n",
       "      <td>2019</td>\n",
       "      <td>48.216503</td>\n",
       "      <td>16.36852</td>\n",
       "      <td>Wien</td>\n",
       "      <td>Austria</td>\n",
       "      <td>1010</td>\n",
       "      <td>Modern cuisine</td>\n",
       "      <td>$$$$</td>\n",
       "      <td>https://guide.michelin.com/at/en/vienna/wien/r...</td>\n",
       "      <td>1</td>\n",
       "    </tr>\n",
       "  </tbody>\n",
       "</table>\n",
       "</div>"
      ],
      "text/plain": [
       "            Name  Year   Latitude  Longitude            City   Region    Zip  \\\n",
       "0   Kilian Stuba  2019  47.348580   10.17114  Kleinwalsertal  Austria  87568   \n",
       "1  Pfefferschiff  2019  47.837870   13.07917        Hallwang  Austria   5300   \n",
       "2      Esszimmer  2019  47.806850   13.03409        Salzburg  Austria   5020   \n",
       "3     Carpe Diem  2019  47.800010   13.04006        Salzburg  Austria   5020   \n",
       "4         Edvard  2019  48.216503   16.36852            Wien  Austria   1010   \n",
       "\n",
       "           Cuisine  Price                                                URL  \\\n",
       "0         Creative  $$$$$  https://guide.michelin.com/at/en/vorarlberg/kl...   \n",
       "1  Classic cuisine  $$$$$  https://guide.michelin.com/at/en/salzburg-regi...   \n",
       "2         Creative  $$$$$  https://guide.michelin.com/at/en/salzburg-regi...   \n",
       "3   Market cuisine  $$$$$  https://guide.michelin.com/at/en/salzburg-regi...   \n",
       "4   Modern cuisine   $$$$  https://guide.michelin.com/at/en/vienna/wien/r...   \n",
       "\n",
       "   Michelin_Stars  \n",
       "0               1  \n",
       "1               1  \n",
       "2               1  \n",
       "3               1  \n",
       "4               1  "
      ]
     },
     "execution_count": 3,
     "metadata": {},
     "output_type": "execute_result"
    }
   ],
   "source": [
    "michelin_data_df.rename(columns = {\n",
    "    'name': 'Name',\n",
    "    'year': 'Year',\n",
    "    'latitude': 'Latitude',\n",
    "    'longitude': 'Longitude',\n",
    "    'city': 'City',\n",
    "    'region': 'Region',\n",
    "    'zipCode': 'Zip',\n",
    "    'cuisine': 'Cuisine',\n",
    "    'price': 'Price',\n",
    "    'url': 'URL',\n",
    "    'Stars': 'Michelin_Stars'\n",
    "},inplace=True)\n",
    "\n",
    "michelin_data_df.head()"
   ]
  },
  {
   "cell_type": "code",
   "execution_count": 4,
   "id": "5a96cd53",
   "metadata": {},
   "outputs": [
    {
     "name": "stdout",
     "output_type": "stream",
     "text": [
      "<class 'pandas.core.frame.DataFrame'>\n",
      "RangeIndex: 695 entries, 0 to 694\n",
      "Data columns (total 11 columns):\n",
      " #   Column          Non-Null Count  Dtype  \n",
      "---  ------          --------------  -----  \n",
      " 0   Name            695 non-null    object \n",
      " 1   Year            695 non-null    int64  \n",
      " 2   Latitude        695 non-null    float64\n",
      " 3   Longitude       695 non-null    float64\n",
      " 4   City            693 non-null    object \n",
      " 5   Region          695 non-null    object \n",
      " 6   Zip             501 non-null    object \n",
      " 7   Cuisine         695 non-null    object \n",
      " 8   Price           520 non-null    object \n",
      " 9   URL             695 non-null    object \n",
      " 10  Michelin_Stars  695 non-null    int64  \n",
      "dtypes: float64(2), int64(2), object(7)\n",
      "memory usage: 59.9+ KB\n"
     ]
    }
   ],
   "source": [
    "michelin_data_df.info()"
   ]
  },
  {
   "cell_type": "code",
   "execution_count": 5,
   "id": "36846685",
   "metadata": {},
   "outputs": [],
   "source": [
    "michelin_data_df = michelin_data_df.dropna()"
   ]
  },
  {
   "cell_type": "code",
   "execution_count": 6,
   "id": "ec266765",
   "metadata": {},
   "outputs": [],
   "source": [
    "michelin_data_df['Price'].replace({'$': '1', '$$': '2', '$$$': '3', '$$$$': '4', '$$$$$': '5'},inplace = True)"
   ]
  },
  {
   "cell_type": "code",
   "execution_count": 7,
   "id": "b6ebd00e",
   "metadata": {},
   "outputs": [
    {
     "data": {
      "text/plain": [
       "Silvio Nickol Gourmet Restaurant    1\n",
       "Kin Khao                            1\n",
       "Gastrologik                         1\n",
       "Daniel Berlin                       1\n",
       "batard                              1\n",
       "                                   ..\n",
       "Tail Up Goat                        1\n",
       "Kitcho                              1\n",
       "Pfefferschiff                       1\n",
       "Hytra                               1\n",
       "Jungsik                             1\n",
       "Name: Name, Length: 336, dtype: int64"
      ]
     },
     "execution_count": 7,
     "metadata": {},
     "output_type": "execute_result"
    }
   ],
   "source": [
    "#Check for duplicates in the Names column\n",
    "michelin_data_df['Name'].value_counts()\n"
   ]
  },
  {
   "cell_type": "code",
   "execution_count": 8,
   "id": "e1b04eee",
   "metadata": {},
   "outputs": [
    {
     "data": {
      "text/plain": [
       "0"
      ]
     },
     "execution_count": 8,
     "metadata": {},
     "output_type": "execute_result"
    }
   ],
   "source": [
    "michelin_data_df.duplicated().sum()"
   ]
  },
  {
   "cell_type": "code",
   "execution_count": 9,
   "id": "8d0c46fa",
   "metadata": {},
   "outputs": [
    {
     "data": {
      "text/plain": [
       "4    161\n",
       "3     89\n",
       "5     50\n",
       "2     35\n",
       "1      1\n",
       "Name: Price, dtype: int64"
      ]
     },
     "execution_count": 9,
     "metadata": {},
     "output_type": "execute_result"
    }
   ],
   "source": [
    "michelin_data_df['Price'].value_counts()"
   ]
  },
  {
   "cell_type": "code",
   "execution_count": 10,
   "id": "311afee2",
   "metadata": {},
   "outputs": [
    {
     "data": {
      "text/plain": [
       "Name                                                     Acquerello\n",
       "Year                                                           2019\n",
       "Latitude                                                   37.79167\n",
       "Longitude                                                -122.42131\n",
       "City                                                  San Francisco\n",
       "Region                                                   California\n",
       "Zip                                                           94109\n",
       "Cuisine                                                     Italian\n",
       "Price                                                             4\n",
       "URL               https://guide.michelin.com/us/en/california/sa...\n",
       "Michelin_Stars                                                    2\n",
       "Name: 562, dtype: object"
      ]
     },
     "execution_count": 10,
     "metadata": {},
     "output_type": "execute_result"
    }
   ],
   "source": [
    "michelin_data_df.iloc[273,:]\n"
   ]
  },
  {
   "cell_type": "code",
   "execution_count": null,
   "id": "65ac2e89",
   "metadata": {},
   "outputs": [],
   "source": []
  },
  {
   "cell_type": "code",
   "execution_count": null,
   "id": "1a33b56a",
   "metadata": {},
   "outputs": [],
   "source": []
  },
  {
   "cell_type": "code",
   "execution_count": 11,
   "id": "88e17fbe",
   "metadata": {},
   "outputs": [],
   "source": [
    "michelin_data_df['Price'] = michelin_data_df['Price'].astype('int64')"
   ]
  },
  {
   "cell_type": "code",
   "execution_count": 12,
   "id": "6f4827a7",
   "metadata": {},
   "outputs": [
    {
     "name": "stdout",
     "output_type": "stream",
     "text": [
      "<class 'pandas.core.frame.DataFrame'>\n",
      "Int64Index: 336 entries, 0 to 689\n",
      "Data columns (total 11 columns):\n",
      " #   Column          Non-Null Count  Dtype  \n",
      "---  ------          --------------  -----  \n",
      " 0   Name            336 non-null    object \n",
      " 1   Year            336 non-null    int64  \n",
      " 2   Latitude        336 non-null    float64\n",
      " 3   Longitude       336 non-null    float64\n",
      " 4   City            336 non-null    object \n",
      " 5   Region          336 non-null    object \n",
      " 6   Zip             336 non-null    object \n",
      " 7   Cuisine         336 non-null    object \n",
      " 8   Price           336 non-null    int64  \n",
      " 9   URL             336 non-null    object \n",
      " 10  Michelin_Stars  336 non-null    int64  \n",
      "dtypes: float64(2), int64(3), object(6)\n",
      "memory usage: 31.5+ KB\n"
     ]
    }
   ],
   "source": [
    "michelin_data_df.info()"
   ]
  },
  {
   "cell_type": "code",
   "execution_count": 13,
   "id": "ac3b0843",
   "metadata": {},
   "outputs": [
    {
     "data": {
      "text/html": [
       "<div>\n",
       "<style scoped>\n",
       "    .dataframe tbody tr th:only-of-type {\n",
       "        vertical-align: middle;\n",
       "    }\n",
       "\n",
       "    .dataframe tbody tr th {\n",
       "        vertical-align: top;\n",
       "    }\n",
       "\n",
       "    .dataframe thead th {\n",
       "        text-align: right;\n",
       "    }\n",
       "</style>\n",
       "<table border=\"1\" class=\"dataframe\">\n",
       "  <thead>\n",
       "    <tr style=\"text-align: right;\">\n",
       "      <th></th>\n",
       "      <th>Name</th>\n",
       "      <th>Year</th>\n",
       "      <th>Latitude</th>\n",
       "      <th>Longitude</th>\n",
       "      <th>City</th>\n",
       "      <th>Region</th>\n",
       "      <th>Zip</th>\n",
       "      <th>Cuisine</th>\n",
       "      <th>Price</th>\n",
       "      <th>URL</th>\n",
       "      <th>Michelin_Stars</th>\n",
       "    </tr>\n",
       "  </thead>\n",
       "  <tbody>\n",
       "    <tr>\n",
       "      <th>0</th>\n",
       "      <td>Kilian Stuba</td>\n",
       "      <td>2019</td>\n",
       "      <td>47.348580</td>\n",
       "      <td>10.17114</td>\n",
       "      <td>Kleinwalsertal</td>\n",
       "      <td>Austria</td>\n",
       "      <td>87568</td>\n",
       "      <td>Creative</td>\n",
       "      <td>5</td>\n",
       "      <td>https://guide.michelin.com/at/en/vorarlberg/kl...</td>\n",
       "      <td>1</td>\n",
       "    </tr>\n",
       "    <tr>\n",
       "      <th>1</th>\n",
       "      <td>Pfefferschiff</td>\n",
       "      <td>2019</td>\n",
       "      <td>47.837870</td>\n",
       "      <td>13.07917</td>\n",
       "      <td>Hallwang</td>\n",
       "      <td>Austria</td>\n",
       "      <td>5300</td>\n",
       "      <td>Classic cuisine</td>\n",
       "      <td>5</td>\n",
       "      <td>https://guide.michelin.com/at/en/salzburg-regi...</td>\n",
       "      <td>1</td>\n",
       "    </tr>\n",
       "    <tr>\n",
       "      <th>2</th>\n",
       "      <td>Esszimmer</td>\n",
       "      <td>2019</td>\n",
       "      <td>47.806850</td>\n",
       "      <td>13.03409</td>\n",
       "      <td>Salzburg</td>\n",
       "      <td>Austria</td>\n",
       "      <td>5020</td>\n",
       "      <td>Creative</td>\n",
       "      <td>5</td>\n",
       "      <td>https://guide.michelin.com/at/en/salzburg-regi...</td>\n",
       "      <td>1</td>\n",
       "    </tr>\n",
       "    <tr>\n",
       "      <th>3</th>\n",
       "      <td>Carpe Diem</td>\n",
       "      <td>2019</td>\n",
       "      <td>47.800010</td>\n",
       "      <td>13.04006</td>\n",
       "      <td>Salzburg</td>\n",
       "      <td>Austria</td>\n",
       "      <td>5020</td>\n",
       "      <td>Market cuisine</td>\n",
       "      <td>5</td>\n",
       "      <td>https://guide.michelin.com/at/en/salzburg-regi...</td>\n",
       "      <td>1</td>\n",
       "    </tr>\n",
       "    <tr>\n",
       "      <th>4</th>\n",
       "      <td>Edvard</td>\n",
       "      <td>2019</td>\n",
       "      <td>48.216503</td>\n",
       "      <td>16.36852</td>\n",
       "      <td>Wien</td>\n",
       "      <td>Austria</td>\n",
       "      <td>1010</td>\n",
       "      <td>Modern cuisine</td>\n",
       "      <td>4</td>\n",
       "      <td>https://guide.michelin.com/at/en/vienna/wien/r...</td>\n",
       "      <td>1</td>\n",
       "    </tr>\n",
       "  </tbody>\n",
       "</table>\n",
       "</div>"
      ],
      "text/plain": [
       "            Name  Year   Latitude  Longitude            City   Region    Zip  \\\n",
       "0   Kilian Stuba  2019  47.348580   10.17114  Kleinwalsertal  Austria  87568   \n",
       "1  Pfefferschiff  2019  47.837870   13.07917        Hallwang  Austria   5300   \n",
       "2      Esszimmer  2019  47.806850   13.03409        Salzburg  Austria   5020   \n",
       "3     Carpe Diem  2019  47.800010   13.04006        Salzburg  Austria   5020   \n",
       "4         Edvard  2019  48.216503   16.36852            Wien  Austria   1010   \n",
       "\n",
       "           Cuisine  Price                                                URL  \\\n",
       "0         Creative      5  https://guide.michelin.com/at/en/vorarlberg/kl...   \n",
       "1  Classic cuisine      5  https://guide.michelin.com/at/en/salzburg-regi...   \n",
       "2         Creative      5  https://guide.michelin.com/at/en/salzburg-regi...   \n",
       "3   Market cuisine      5  https://guide.michelin.com/at/en/salzburg-regi...   \n",
       "4   Modern cuisine      4  https://guide.michelin.com/at/en/vienna/wien/r...   \n",
       "\n",
       "   Michelin_Stars  \n",
       "0               1  \n",
       "1               1  \n",
       "2               1  \n",
       "3               1  \n",
       "4               1  "
      ]
     },
     "execution_count": 13,
     "metadata": {},
     "output_type": "execute_result"
    }
   ],
   "source": [
    "michelin_data_df.head()"
   ]
  },
  {
   "cell_type": "code",
   "execution_count": 15,
   "id": "79b705ce",
   "metadata": {},
   "outputs": [],
   "source": [
    "engine=sql.connect('restaurants.db')\n",
    "michelin_data_df.to_sql(name='restaurants', con=engine, if_exists='replace', index=False)"
   ]
  },
  {
   "cell_type": "markdown",
   "id": "a496aea8",
   "metadata": {},
   "source": [
    "## Creating new Database for Cuisine Bubble Chart "
   ]
  },
  {
   "cell_type": "code",
   "execution_count": 21,
   "id": "90ffc279",
   "metadata": {},
   "outputs": [
    {
     "data": {
      "text/html": [
       "<div>\n",
       "<style scoped>\n",
       "    .dataframe tbody tr th:only-of-type {\n",
       "        vertical-align: middle;\n",
       "    }\n",
       "\n",
       "    .dataframe tbody tr th {\n",
       "        vertical-align: top;\n",
       "    }\n",
       "\n",
       "    .dataframe thead th {\n",
       "        text-align: right;\n",
       "    }\n",
       "</style>\n",
       "<table border=\"1\" class=\"dataframe\">\n",
       "  <thead>\n",
       "    <tr style=\"text-align: right;\">\n",
       "      <th></th>\n",
       "      <th>Number</th>\n",
       "    </tr>\n",
       "    <tr>\n",
       "      <th>Cuisine</th>\n",
       "      <th></th>\n",
       "    </tr>\n",
       "  </thead>\n",
       "  <tbody>\n",
       "    <tr>\n",
       "      <th>American</th>\n",
       "      <td>10</td>\n",
       "    </tr>\n",
       "    <tr>\n",
       "      <th>Asian</th>\n",
       "      <td>2</td>\n",
       "    </tr>\n",
       "    <tr>\n",
       "      <th>Asian contemporary</th>\n",
       "      <td>1</td>\n",
       "    </tr>\n",
       "    <tr>\n",
       "      <th>Asian influences</th>\n",
       "      <td>1</td>\n",
       "    </tr>\n",
       "    <tr>\n",
       "      <th>Austrian</th>\n",
       "      <td>1</td>\n",
       "    </tr>\n",
       "  </tbody>\n",
       "</table>\n",
       "</div>"
      ],
      "text/plain": [
       "                    Number\n",
       "Cuisine                   \n",
       "American                10\n",
       "Asian                    2\n",
       "Asian contemporary       1\n",
       "Asian influences         1\n",
       "Austrian                 1"
      ]
     },
     "execution_count": 21,
     "metadata": {},
     "output_type": "execute_result"
    }
   ],
   "source": [
    "df = michelin_data_df.groupby([\"Cuisine\"]).size()\n",
    "df2 = df.to_frame()\n",
    "df2 = df2.rename(columns={0:\"Number\"})\n",
    "df2.head()"
   ]
  },
  {
   "cell_type": "code",
   "execution_count": 22,
   "id": "f1240594",
   "metadata": {},
   "outputs": [],
   "source": [
    "engine=sql.connect('bubble.db')\n",
    "michelin_data_df.to_sql(name='bubble_db', con=engine, if_exists='replace', index=False)"
   ]
  },
  {
   "cell_type": "code",
   "execution_count": null,
   "id": "95981829",
   "metadata": {},
   "outputs": [],
   "source": []
  }
 ],
 "metadata": {
  "kernelspec": {
   "display_name": "Python 3",
   "language": "python",
   "name": "python3"
  },
  "language_info": {
   "codemirror_mode": {
    "name": "ipython",
    "version": 3
   },
   "file_extension": ".py",
   "mimetype": "text/x-python",
   "name": "python",
   "nbconvert_exporter": "python",
   "pygments_lexer": "ipython3",
   "version": "3.8.8"
  }
 },
 "nbformat": 4,
 "nbformat_minor": 5
}
